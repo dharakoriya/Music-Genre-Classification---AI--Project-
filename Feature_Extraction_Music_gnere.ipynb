{
  "cells": [
    {
      "cell_type": "code",
      "execution_count": null,
      "metadata": {
        "id": "2QTp0k1B1aBs"
      },
      "outputs": [],
      "source": [
        "# Import necessary libraries\n",
        "import librosa\n",
        "import numpy as np"
      ]
    },
    {
      "cell_type": "code",
      "execution_count": null,
      "metadata": {
        "id": "HnwmQ6Pn1b1A"
      },
      "outputs": [],
      "source": [
        "# Load the audio file using Librosa\n",
        "file_path = \"/content/blues.00000.wav\"\n",
        "audio, sr = librosa.load(file_path)"
      ]
    },
    {
      "cell_type": "markdown",
      "metadata": {
        "id": "N9ISo4h45AuC"
      },
      "source": [
        " Chroma Feature :capture harmonic and melodic characteristics of music, while being robust to changes in timbre and instrumentation."
      ]
    },
    {
      "cell_type": "code",
      "execution_count": null,
      "metadata": {
        "colab": {
          "base_uri": "https://localhost:8080/"
        },
        "id": "sCIuyidS2MWL",
        "outputId": "0b2dcd96-b2d1-4826-c15d-7f0e6facd020"
      },
      "outputs": [
        {
          "data": {
            "text/plain": [
              "array([[0.33112544, 0.23492372, 0.8714165 , ..., 0.15691066, 0.87786204,\n",
              "        1.        ],\n",
              "       [0.39392966, 0.29400367, 0.6882651 , ..., 0.13222207, 0.68507576,\n",
              "        0.7281689 ],\n",
              "       [0.42932406, 0.41955495, 0.51602733, ..., 0.25044858, 0.56496435,\n",
              "        0.40339905],\n",
              "       ...,\n",
              "       [1.        , 1.        , 1.        , ..., 0.2619948 , 0.95514834,\n",
              "        0.86573505],\n",
              "       [0.42033246, 0.36797962, 0.6217583 , ..., 1.        , 1.        ,\n",
              "        0.9858056 ],\n",
              "       [0.30348283, 0.19700052, 0.64925486, ..., 0.6287608 , 0.71722466,\n",
              "        0.81626564]], dtype=float32)"
            ]
          },
          "execution_count": 36,
          "metadata": {},
          "output_type": "execute_result"
        }
      ],
      "source": [
        "# Extract Chroma Short-Time Fourier Transform (STFT) features\n",
        "chroma_stft = librosa.feature.chroma_stft(y=audio, sr=sr)\n",
        "chroma_stft"
      ]
    },
    {
      "cell_type": "markdown",
      "metadata": {
        "id": "55d_m8jZ5lmJ"
      },
      "source": [
        "The spectral centroid represents the center of mass of the spectrum and indicates where the \"center of gravity\" of the signal's frequency distribution is located."
      ]
    },
    {
      "cell_type": "code",
      "execution_count": null,
      "metadata": {
        "id": "xbwpeSWE2frE"
      },
      "outputs": [],
      "source": [
        "# Extract Spectral Centroid feature\n",
        "spectral_centroid = librosa.feature.spectral_centroid(y=audio, sr=sr)"
      ]
    },
    {
      "cell_type": "markdown",
      "metadata": {
        "id": "mERXmtV45vRS"
      },
      "source": [
        " Spectral bandwidth describes the width of the spectral band and provides information about the spread of frequencies in the signal."
      ]
    },
    {
      "cell_type": "code",
      "execution_count": null,
      "metadata": {
        "id": "kIRsz8SN2lt_"
      },
      "outputs": [],
      "source": [
        "# Extract Spectral Bandwidth feature\n",
        "spectral_bandwidth = librosa.feature.spectral_bandwidth(y=audio, sr=sr)"
      ]
    },
    {
      "cell_type": "markdown",
      "metadata": {
        "id": "Vs4XLNZu54v-"
      },
      "source": [
        "pectral rolloff represents the frequency below which a certain percentage of the total spectral energy is contained."
      ]
    },
    {
      "cell_type": "code",
      "execution_count": null,
      "metadata": {
        "id": "uxCL2Rfa2r9K"
      },
      "outputs": [],
      "source": [
        "# Extract Spectral Rolloff feature\n",
        "spectral_rolloff = librosa.feature.spectral_rolloff(y=audio, sr=sr)"
      ]
    },
    {
      "cell_type": "markdown",
      "metadata": {
        "id": "N-n0OwX65_xC"
      },
      "source": [
        "MFCCs are coefficients representing the short-term power spectrum of a sound, modeled after the human auditory system's response to different frequencies."
      ]
    },
    {
      "cell_type": "code",
      "execution_count": null,
      "metadata": {
        "id": "3mao0p3d2wlt"
      },
      "outputs": [],
      "source": [
        "# Extract Mel-frequency cepstral coefficients (MFCCs) features\n",
        "mel_freq = librosa.feature.mfcc(y=audio, sr=sr, n_mfcc=13)\n"
      ]
    },
    {
      "cell_type": "code",
      "execution_count": null,
      "metadata": {
        "id": "5qvGhZmU2zWq"
      },
      "outputs": [],
      "source": [
        "# Combine all extracted features into one array (stack them vertically)\n",
        "features = np.vstack([ spectral_centroid, spectral_bandwidth, spectral_rolloff, mel_freq])\n"
      ]
    },
    {
      "cell_type": "code",
      "execution_count": null,
      "metadata": {
        "id": "y9RNyMIJ23Fp"
      },
      "outputs": [],
      "source": [
        "# Calculate the mean of each feature over time\n",
        "mean_features = np.mean(features, axis=1)"
      ]
    },
    {
      "cell_type": "code",
      "execution_count": null,
      "metadata": {
        "colab": {
          "background_save": true,
          "base_uri": "https://localhost:8080/"
        },
        "id": "AbsMwZXr26if",
        "outputId": "e8f24800-1f07-48ef-fd5b-e08b1789a008"
      },
      "outputs": [
        {
          "name": "stdout",
          "output_type": "stream",
          "text": [
            "Spectral Centroid: (1, 1293)\n",
            "Spectral Bandwidth: (1, 1293)\n",
            "Spectral Rolloff: (1, 1293)\n",
            "MFCCs: (13, 1293)\n",
            "Mean Features: (16,)\n"
          ]
        }
      ],
      "source": [
        "# Print the extracted features\n",
        "print(\"Spectral Centroid:\", spectral_centroid.shape)\n",
        "print(\"Spectral Bandwidth:\", spectral_bandwidth)\n",
        "print(\"Spectral Rolloff:\", spectral_rolloff)\n",
        "print(\"MFCCs:\", mel_freq)\n",
        "print(\"Mean Features:\", mean_features)"
      ]
    },
    {
      "cell_type": "code",
      "execution_count": null,
      "metadata": {
        "colab": {
          "base_uri": "https://localhost:8080/"
        },
        "id": "kModWzHWstF1",
        "outputId": "851eff31-c4b0-4fcb-8b89-b1894fa763d8"
      },
      "outputs": [
        {
          "name": "stdout",
          "output_type": "stream",
          "text": [
            "Extracted Features: [0.3501285, 0.13018432, 1784.1226412753101, 2002.4124072733878, 3805.7230301080335, 0.08304482066898686, -4.906634e-05, -1.0618483e-05, 1.9366392, 0.08877166, 0.00282838, 129745.48441929805, 85834.41040579003, 901252.916706492, 0.0007669456545940504, 0.008172463, 0.0057044374, 1767.5433, 123.046875]\n"
          ]
        }
      ],
      "source": [
        "import librosa\n",
        "import numpy as np\n",
        "import pandas as pd\n",
        "\n",
        "# Function to extract features from an audio file\n",
        "def extract_features(file_path):\n",
        "    # Load the audio file using Librosa\n",
        "    audio, sr = librosa.load(file_path)\n",
        "\n",
        "    # Extract Chroma Short-Time Fourier Transform (STFT) features\n",
        "    chroma_stft = librosa.feature.chroma_stft(y=audio, sr=sr)\n",
        "\n",
        "    # Extract Root Mean Square (RMS) features\n",
        "    rms = librosa.feature.rms(y=audio)\n",
        "\n",
        "    # Extract Spectral Centroid feature\n",
        "    spectral_centroid = librosa.feature.spectral_centroid(y=audio, sr=sr)\n",
        "\n",
        "    # Extract Spectral Bandwidth feature\n",
        "    spectral_bandwidth = librosa.feature.spectral_bandwidth(y=audio, sr=sr)\n",
        "\n",
        "    # Extract Spectral Rolloff feature\n",
        "    spectral_rolloff = librosa.feature.spectral_rolloff(y=audio, sr=sr)\n",
        "\n",
        "    # Extract Zero-Crossing Rate feature\n",
        "    zero_crossing_rate = librosa.feature.zero_crossing_rate(y=audio)\n",
        "\n",
        "    # Extract Harmonic and Perceptrual features\n",
        "    harmony, perceptr = librosa.effects.hpss(audio)\n",
        "\n",
        "    # Extract Tempo\n",
        "    tempo, _ = librosa.beat.beat_track(y=audio, sr=sr)\n",
        "\n",
        "    # Extract Mel-frequency cepstral coefficients (MFCCs) features\n",
        "    mfccs = librosa.feature.mfcc(y=audio, sr=sr, n_mfcc=20)\n",
        "\n",
        "    # Calculate the mean and variance of each feature over time\n",
        "    mean_features = [np.mean(feature) for feature in [chroma_stft, rms, spectral_centroid, spectral_bandwidth, spectral_rolloff, zero_crossing_rate, harmony, perceptr, mfccs]]\n",
        "    var_features = [np.var(feature) for feature in [chroma_stft, rms, spectral_centroid, spectral_bandwidth, spectral_rolloff, zero_crossing_rate, harmony, perceptr, mfccs]]\n",
        "\n",
        "    # Return the extracted features\n",
        "    return mean_features + var_features + [tempo]\n",
        "\n",
        "# Example usage:\n",
        "file_path = \"/content/blues.00000.wav\"\n",
        "features = extract_features(file_path)\n",
        "\n",
        "# Print the extracted features\n",
        "print(\"Extracted Features:\", features)\n"
      ]
    },
    {
      "cell_type": "code",
      "source": [
        "import librosa\n",
        "import numpy as np\n",
        "import pandas as pd\n",
        "from sklearn.preprocessing import StandardScaler, LabelEncoder\n",
        "from sklearn.ensemble import RandomForestClassifier\n",
        "from sklearn.pipeline import Pipeline\n",
        "from sklearn.model_selection import train_test_split\n",
        "from sklearn.metrics import accuracy_score\n",
        "import joblib\n",
        "\n",
        "# Function to extract features from an audio file\n",
        "def extract_features(file_path):\n",
        "    # For demonstration, let's assume features are already extracted\n",
        "    # with the same dimensions as those used during training\n",
        "    # Replace this with your actual feature extraction method\n",
        "    num_features = 58  # Assuming the same number of features used during training\n",
        "    features = np.random.rand(1, num_features)  # Random features for demonstration\n",
        "    return features\n",
        "\n",
        "\n",
        "# Load the dataset from the CSV file\n",
        "# Replace 'NewDatasetTrain.csv' with the filename of your dataset\n",
        "try:\n",
        "    data = pd.read_csv('/content/features_30_sec.csv')\n",
        "except FileNotFoundError:\n",
        "    print(\"Dataset file not found.\")\n",
        "    exit()\n",
        "\n",
        "data['label'] = data['label'].str.strip().str.replace('\\n', '')\n",
        "\n",
        "# Extract features and labels\n",
        "X = data.drop(columns=['label', 'filename'])  # Exclude the label and filename columns\n",
        "y = data['label']\n",
        "\n",
        "# Convert labels to categorical\n",
        "label_encoder = LabelEncoder()\n",
        "y = label_encoder.fit_transform(y)\n",
        "\n",
        "# Split the dataset into training and testing sets\n",
        "X_train, X_test, y_train, y_test = train_test_split(X, y, test_size=0.2, random_state=42)\n",
        "\n",
        "# Define a pipeline for preprocessing and modeling\n",
        "pipeline = Pipeline([\n",
        "    ('scaler', StandardScaler()),  # Scale features\n",
        "    ('clf', RandomForestClassifier(random_state=42))  # Random Forest Classifier\n",
        "])\n",
        "\n",
        "# Train the model\n",
        "pipeline.fit(X_train, y_train)\n",
        "\n",
        "# Evaluate the model on the test set\n",
        "predictions = pipeline.predict(X_test)\n",
        "accuracy = accuracy_score(y_test, predictions)\n",
        "print(f\"Test accuracy: {accuracy * 100:.2f}%\")\n",
        "\n",
        "# Save the trained model and preprocessing steps\n",
        "joblib.dump(pipeline, 'trained_model.pkl')\n",
        "joblib.dump(label_encoder, 'label_encoder.pkl')\n",
        "\n",
        "# Function to predict the genre of an audio file\n",
        "def predict_genre(file_path, model, label_encoder):\n",
        "    # Extract features from the audio file\n",
        "    features = extract_features(file_path)\n",
        "\n",
        "    # Predict the genre label\n",
        "    predicted_label = model.predict(features)\n",
        "\n",
        "    # Decode the predicted label using label encoder\n",
        "    predicted_genre = label_encoder.inverse_transform(predicted_label)\n",
        "\n",
        "    return predicted_genre[0]\n",
        "\n",
        "# Example usage:\n",
        "file_path = \"/content/classical.00000.wav\"  # Replace with the path to your audio file\n",
        "model = joblib.load('trained_model.pkl')\n",
        "label_encoder = joblib.load('label_encoder.pkl')\n",
        "predicted_genre = predict_genre(file_path, model, label_encoder)\n",
        "print(\"Predicted Genre:\", predicted_genre)\n"
      ],
      "metadata": {
        "colab": {
          "base_uri": "https://localhost:8080/"
        },
        "id": "Mz84kCLptITT",
        "outputId": "35b3db58-c67c-4b47-b132-7c2d6928b631"
      },
      "execution_count": null,
      "outputs": [
        {
          "output_type": "stream",
          "name": "stdout",
          "text": [
            "Test accuracy: 75.50%\n",
            "Predicted Genre: classical\n"
          ]
        },
        {
          "output_type": "stream",
          "name": "stderr",
          "text": [
            "/usr/local/lib/python3.10/dist-packages/sklearn/base.py:439: UserWarning: X does not have valid feature names, but StandardScaler was fitted with feature names\n",
            "  warnings.warn(\n"
          ]
        }
      ]
    },
    {
      "cell_type": "code",
      "execution_count": null,
      "metadata": {
        "id": "QIJc_2Ynyk-J"
      },
      "outputs": [],
      "source": []
    }
  ],
  "metadata": {
    "colab": {
      "provenance": []
    },
    "kernelspec": {
      "display_name": "Python 3",
      "name": "python3"
    },
    "language_info": {
      "name": "python"
    }
  },
  "nbformat": 4,
  "nbformat_minor": 0
}